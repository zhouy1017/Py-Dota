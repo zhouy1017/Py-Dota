{
 "cells": [
  {
   "cell_type": "code",
   "execution_count": 12,
   "metadata": {},
   "outputs": [],
   "source": [
    "import requests\n",
    "import pandas as pd\n",
    "import base_tools as tools\n",
    "import numpy as np\n",
    "from collections import defaultdict, OrderedDict\n",
    "import operator\n",
    "import json\n",
    "from os.path import join as pjoin\n",
    "import time\n",
    "import os\n",
    "import six\n",
    "from pytablewriter import MarkdownTableWriter\n"
   ]
  },
  {
   "cell_type": "markdown",
   "metadata": {},
   "source": [
    "https://api.opendota.com/api/matches/"
   ]
  },
  {
   "cell_type": "code",
   "execution_count": 13,
   "metadata": {},
   "outputs": [],
   "source": [
    "\n",
    "\n",
    "filename = \"archieved_match.json\"\n",
    "path_to_file = \"D:\\\\Pro\\\\Py-DOta\\\\Dumped_Json\\\\archieved_match.json\"\n",
    "with open(path_to_file,'r') as f:\n",
    "    data = json.load(f)\n",
    "archieved_match = data"
   ]
  },
  {
   "cell_type": "code",
   "execution_count": 14,
   "metadata": {},
   "outputs": [],
   "source": [
    "def post(df):\n",
    "    df = df.groupby(df.columns, axis=1).sum()\n",
    "    df['AVG_FS'] = df.apply(lambda row:row[0]/row[2],axis=1)\n",
    "    df = df.sort_values(by=['AVG_FS'],ascending=False)\n",
    "    df.columns = ['FS','Region','Matches','AVG_FS']\n",
    "    return df\n"
   ]
  },
  {
   "cell_type": "code",
   "execution_count": 15,
   "metadata": {},
   "outputs": [],
   "source": [
    "def get_fs_for_one_match(match_id):\n",
    "    player_table = {}\n",
    "    filename = str(match_id) + \".json\"\n",
    "    path_to_file = pjoin(\"D:\\\\Pro\",\"Py-DOta\",\"Dumped_Json\",filename)\n",
    "    if match_id in archieved_match:\n",
    "\n",
    "        with open(path_to_file,'r') as f:\n",
    "            details = json.load(f)\n",
    "            f.close()\n",
    "    else:\n",
    "        target = \"https://api.opendota.com/api/matches/\" + str(match_id) \n",
    "        r = requests.get(url=target)\n",
    "        time.sleep(2)\n",
    "        details = r.json()\n",
    "        with open(path_to_file,'w+') as f:\n",
    "            json.dump(details,f)\n",
    "            f.close()\n",
    "        archieved_match.append(match_id)\n",
    "        path_to_file = \"D:\\\\Pro\\\\Py-DOta\\\\Dumped_Json\\\\archieved_match.json\"\n",
    "        with open(path_to_file,'w') as f:\n",
    "            json.dump(archieved_match,f)\n",
    "            f.close()\n",
    "        \n",
    "    try:\n",
    "\n",
    "        fb_time = details['first_blood_time']\n",
    "        radiant_kills = details['radiant_score']\n",
    "        dire_kills = details['dire_score']\n",
    "        #print(details.keys())\n",
    "        try:\n",
    "            region = details['region']\n",
    "        except:\n",
    "            region = 12\n",
    "\n",
    "        \n",
    "        for player in details['players']:\n",
    "            #player_stats = []\n",
    "            kills = player['kills']\n",
    "            deaths = player['deaths']\n",
    "            assists = player['assists']\n",
    "            try:\n",
    "                first_kill_time = player['kills_log'][0]['time']\n",
    "            except:\n",
    "                first_kill_time = -100\n",
    "            if first_kill_time == fb_time:\n",
    "                fb = 1\n",
    "            else:\n",
    "                fb = 0\n",
    "            creep_scores = player['denies'] + player['last_hits']\n",
    "            wards = player['obs_placed'] + player['sen_placed']\n",
    "            camp = player['camps_stacked']\n",
    "            stuns = player['stuns']\n",
    "            gpm = player['gold_per_min']\n",
    "            runes = player['rune_pickups']\n",
    "            tower_kill = player['tower_kills']\n",
    "            if player['isRadiant']:\n",
    "                participant = (kills+assists)/radiant_kills\n",
    "            else:\n",
    "                participant = (kills+assists)/dire_kills\n",
    "            roshan_kills = player['roshan_kills']\n",
    "            player_fs = kills *0.3 - 0.3* deaths + 4.0* fb+ 0.003 * creep_scores+ 0.5*wards+0.5*camp+0.05*stuns+0.002*gpm+ 0.25*runes+tower_kill+3*participant+roshan_kills\n",
    "            player_table[player['name']] = [player_fs,player['lane_role'],player['lh_t'][9],region,player['account_id']]\n",
    "    except Exception as e:\n",
    "        player_table[match_id] = str(e)\n",
    "    return player_table\n",
    "\n",
    "        "
   ]
  },
  {
   "cell_type": "code",
   "execution_count": 16,
   "metadata": {},
   "outputs": [],
   "source": [
    "def get_fs_for_one_league(match_list,qualifier = False):\n",
    "    all_table = {}\n",
    "    mid_table = {}\n",
    "    support_table = {}\n",
    "    core_table = {}\n",
    "    Error_ID = {}\n",
    "    for match_id in match_list:\n",
    "\n",
    "        player_table = get_fs_for_one_match(match_id)\n",
    "        if len(player_table) == 1:\n",
    "            k = list(player_table.keys())\n",
    "            v = list(player_table.values())\n",
    "            Error_ID[k[0]] = v[0]\n",
    "            continue\n",
    "\n",
    "        for k, v in player_table.items():\n",
    "            if k in all_table:\n",
    "                all_table[k][0] = all_table[k][0] + v[0] # total FS\n",
    "                all_table[k][1].append(v[1]) # positions played\n",
    "                all_table[k][2] = (all_table[k][2] + v[2])/2 # average lh@10mins\n",
    "                all_table[k][4] = all_table[k][4]+ 1 # total matches played\n",
    "            else:\n",
    "                all_table[k] = [v[0],[v[1]],v[2],v[3],1,v[4]]\n",
    "    for player,stats in all_table.items():\n",
    "        role_list = stats[1]\n",
    "        role_list.sort(reverse = True)\n",
    "        d = defaultdict(int)\n",
    "        for i in role_list:\n",
    "            d[i] += 1\n",
    "        (role,role_times) = max(d.items(),key=lambda x: x[1])\n",
    "        if player == None:\n",
    "            player = stats[5]\n",
    "        if player == 'JAbz':\n",
    "            print(role_list)\n",
    "        lh_10_min = stats[2]\n",
    "        if role == 2 and lh_10_min > 20:\n",
    "            if qualifier:\n",
    "                mid_table[player] = [stats[0],stats[3],stats[4]]\n",
    "            else:\n",
    "                mid_table[player] = [stats[0],stats[3],stats[4]]\n",
    "\n",
    "                \n",
    "        else:\n",
    "            # if a plyaer have an average lh at 10 mins > 20, the player is regarded as a core.\n",
    "            try:\n",
    "                if lh_10_min > 20:\n",
    "                    if qualifier:\n",
    "                        core_table[player] = [stats[0],stats[3],stats[4]]\n",
    "                    else:\n",
    "                        core_table[player] = [stats[0],stats[3],stats[4]]\n",
    "                else:\n",
    "                    if qualifier:\n",
    "                        support_table[player] = [stats[0],stats[3],stats[4]]\n",
    "                    else:\n",
    "                        support_table[player] = [stats[0],stats[3],stats[4]]\n",
    "            except:\n",
    "                print(lh_10_min)\n",
    "    return all_table, mid_table,support_table, core_table,Error_ID\n",
    "\n",
    "                "
   ]
  },
  {
   "cell_type": "code",
   "execution_count": 17,
   "metadata": {},
   "outputs": [],
   "source": [
    "table, qualifier,main_event = tools.differed_id(\"Paris Major\")\n"
   ]
  },
  {
   "cell_type": "code",
   "execution_count": 28,
   "metadata": {},
   "outputs": [],
   "source": [
    "leagues = [\"PIT Minor\",\"DreamLeague S10\",\"DreamLeague S11\",\"SL-i Minor\",\"Kuala Lumpur Major\",\"Chongqing Major\",\"Paris Major\",\"Bucharest Minor\"]"
   ]
  },
  {
   "cell_type": "code",
   "execution_count": 19,
   "metadata": {},
   "outputs": [],
   "source": [
    "leagues = [\"PIT Minor\"]"
   ]
  },
  {
   "cell_type": "code",
   "execution_count": 20,
   "metadata": {},
   "outputs": [
    {
     "name": "stdout",
     "output_type": "stream",
     "text": [
      "[3, 3, 3, 3, 2, 2, 2, 1, 1]\n"
     ]
    },
    {
     "data": {
      "text/plain": [
       "{'4598714044': \"unsupported operand type(s) for +: 'NoneType' and 'NoneType'\",\n",
       " '4583318221': 'division by zero',\n",
       " '4581422908': \"unsupported operand type(s) for +: 'NoneType' and 'NoneType'\",\n",
       " '4581417620': \"unsupported operand type(s) for +: 'NoneType' and 'NoneType'\"}"
      ]
     },
     "execution_count": 20,
     "metadata": {},
     "output_type": "execute_result"
    }
   ],
   "source": [
    "all_table, mid_table, support_table, core_table,Error_ID = get_fs_for_one_league(qualifier,False)\n",
    "Error_ID"
   ]
  },
  {
   "cell_type": "code",
   "execution_count": 30,
   "metadata": {
    "scrolled": true
   },
   "outputs": [
    {
     "name": "stdout",
     "output_type": "stream",
     "text": [
      "[4, 3, 3, 2, 2, 2, 1]\n",
      "v\n",
      "[3, 3, 3, 2, 2, 1, 1, 1, 1, 1, 1, 1, 1, 1, 1, 1, 1, 1]\n",
      "[3, 3, 3, 3, 2, 2, 1, 1, 1, 1, 1]\n",
      "[3, 3, 3, 3, 3, 3, 2, 2, 2, 1, 1, 1, 1]\n",
      "[3, 3, 2, 2, 2, 1, 1, 1, 1]\n",
      "[3, 2, 2, 2, 2, 2, 2, 2, 1, 1, 1, 1, 1]\n",
      "[3, 3, 3, 3, 2, 2, 2, 1, 1]\n"
     ]
    }
   ],
   "source": [
    "mid_df_list = []\n",
    "sup_df_list = []\n",
    "core_df_list = []\n",
    "mid_df_list2 = []\n",
    "sup_df_list2 = []\n",
    "core_df_list2 = []\n",
    "cols = ['FS','Region','Matches','ID']\n",
    "for league in leagues:\n",
    "    table, qualifier,main_event = tools.differed_id(league)\n",
    "    all_table, mid_table, support_table, core_table,Error_ID = get_fs_for_one_league(qualifier,False)\n",
    "    df = pd.DataFrame(mid_table)\n",
    "    df = df.T\n",
    "    mid_df_list.append(df)\n",
    "    df2 = pd.DataFrame(core_table)\n",
    "    df2 = df2.T    \n",
    "    core_df_list.append(df2)\n",
    "    df3 = pd.DataFrame(support_table)\n",
    "    df3 = df3.T  \n",
    "    sup_df_list.append(df3)\n",
    "    all_table, mid_table, support_table, core_table,Error_ID = get_fs_for_one_league(main_event,False)\n",
    "    df = pd.DataFrame(mid_table)\n",
    "    df = df.T\n",
    "    mid_df_list2.append(df)\n",
    "    df2 = pd.DataFrame(core_table)\n",
    "    df2 = df2.T    \n",
    "    core_df_list2.append(df2)\n",
    "    df3 = pd.DataFrame(support_table)\n",
    "    df3 = df3.T  \n",
    "    sup_df_list2.append(df3)\n",
    "mid_df = post(pd.concat(mid_df_list,axis = 1,sort=True))\n",
    "mid_df.to_excel(\"mid_df_qu.xlsx\",encoding='utf_8_sig')\n",
    "core_df = post(pd.concat(core_df_list,axis = 1,sort=True))\n",
    "core_df.to_excel(\"core_df_qu.xlsx\",encoding='utf_8_sig')\n",
    "sup_df = post(pd.concat(sup_df_list,axis = 1,sort=True))\n",
    "sup_df.to_excel(\"sup_df_qu.xlsx\",encoding='utf_8_sig')\n",
    "mid_df2 = post(pd.concat(mid_df_list2,axis = 1,sort=True))\n",
    "mid_df2.to_excel(\"mid_df_main.xlsx\",encoding='utf_8_sig')\n",
    "core_df2 = post(pd.concat(core_df_list2,axis = 1,sort=True))\n",
    "core_df2.to_excel(\"core_df_main.xlsx\",encoding='utf_8_sig')\n",
    "sup_df2 = post(pd.concat(sup_df_list2,axis = 1,sort=True))\n",
    "sup_df2.to_excel(\"sup_df_main.xlsx\",encoding='utf_8_sig')\n"
   ]
  },
  {
   "cell_type": "code",
   "execution_count": 22,
   "metadata": {
    "scrolled": true
   },
   "outputs": [
    {
     "name": "stdout",
     "output_type": "stream",
     "text": [
      "| FS  |Region|Matches|AVG_FS|\n",
      "|----:|-----:|------:|-----:|\n",
      "|246.7|     3|     20|12.335|\n",
      "|157.7|     3|     13|12.134|\n",
      "|223.7|     3|     19|11.775|\n",
      "|195.6|     3|     17|11.507|\n",
      "|124.1|     3|     11|11.284|\n",
      "|148.1|     3|     14|10.578|\n",
      "|144.8|     3|     14|10.341|\n",
      "|118.6|     3|     12| 9.879|\n"
     ]
    },
    {
     "data": {
      "text/html": [
       "<div>\n",
       "<style scoped>\n",
       "    .dataframe tbody tr th:only-of-type {\n",
       "        vertical-align: middle;\n",
       "    }\n",
       "\n",
       "    .dataframe tbody tr th {\n",
       "        vertical-align: top;\n",
       "    }\n",
       "\n",
       "    .dataframe thead th {\n",
       "        text-align: right;\n",
       "    }\n",
       "</style>\n",
       "<table border=\"1\" class=\"dataframe\">\n",
       "  <thead>\n",
       "    <tr style=\"text-align: right;\">\n",
       "      <th></th>\n",
       "      <th>FS</th>\n",
       "      <th>Region</th>\n",
       "      <th>Matches</th>\n",
       "      <th>AVG_FS</th>\n",
       "    </tr>\n",
       "  </thead>\n",
       "  <tbody>\n",
       "    <tr>\n",
       "      <th>Fata</th>\n",
       "      <td>246.698020</td>\n",
       "      <td>3</td>\n",
       "      <td>20</td>\n",
       "      <td>12.334901</td>\n",
       "    </tr>\n",
       "    <tr>\n",
       "      <th>_Mikoto_</th>\n",
       "      <td>157.737942</td>\n",
       "      <td>3</td>\n",
       "      <td>13</td>\n",
       "      <td>12.133688</td>\n",
       "    </tr>\n",
       "    <tr>\n",
       "      <th>430</th>\n",
       "      <td>223.730634</td>\n",
       "      <td>3</td>\n",
       "      <td>19</td>\n",
       "      <td>11.775297</td>\n",
       "    </tr>\n",
       "    <tr>\n",
       "      <th>qojqva</th>\n",
       "      <td>195.615552</td>\n",
       "      <td>3</td>\n",
       "      <td>17</td>\n",
       "      <td>11.506797</td>\n",
       "    </tr>\n",
       "    <tr>\n",
       "      <th>Setsu</th>\n",
       "      <td>124.123239</td>\n",
       "      <td>3</td>\n",
       "      <td>11</td>\n",
       "      <td>11.283931</td>\n",
       "    </tr>\n",
       "    <tr>\n",
       "      <th>Chris Luck</th>\n",
       "      <td>148.091411</td>\n",
       "      <td>3</td>\n",
       "      <td>14</td>\n",
       "      <td>10.577958</td>\n",
       "    </tr>\n",
       "    <tr>\n",
       "      <th>CCnC</th>\n",
       "      <td>144.771151</td>\n",
       "      <td>3</td>\n",
       "      <td>14</td>\n",
       "      <td>10.340796</td>\n",
       "    </tr>\n",
       "    <tr>\n",
       "      <th>Afoninje</th>\n",
       "      <td>118.551877</td>\n",
       "      <td>3</td>\n",
       "      <td>12</td>\n",
       "      <td>9.879323</td>\n",
       "    </tr>\n",
       "  </tbody>\n",
       "</table>\n",
       "</div>"
      ],
      "text/plain": [
       "                     FS  Region  Matches     AVG_FS\n",
       "Fata         246.698020       3       20  12.334901\n",
       "_Mikoto_     157.737942       3       13  12.133688\n",
       "430          223.730634       3       19  11.775297\n",
       "qojqva       195.615552       3       17  11.506797\n",
       "Setsu        124.123239       3       11  11.283931\n",
       "Chris Luck   148.091411       3       14  10.577958\n",
       "CCnC         144.771151       3       14  10.340796\n",
       "Afoninje     118.551877       3       12   9.879323"
      ]
     },
     "execution_count": 22,
     "metadata": {},
     "output_type": "execute_result"
    }
   ],
   "source": [
    "df = pd.read_excel(\"mid_df_main.xlsx\")\n",
    "writer = MarkdownTableWriter()\n",
    "writer.from_dataframe(df)\n",
    "writer.write_table()\n",
    "df"
   ]
  },
  {
   "cell_type": "code",
   "execution_count": 23,
   "metadata": {},
   "outputs": [
    {
     "name": "stdout",
     "output_type": "stream",
     "text": [
      "|  FS  |Region|Matches|AVG_FS|\n",
      "|-----:|-----:|------:|-----:|\n",
      "|261.66|     3|     20|13.083|\n",
      "|167.02|     3|     13|12.848|\n",
      "|243.18|     3|     19|12.799|\n",
      "|140.66|     3|     11|12.787|\n",
      "|217.24|     3|     17|12.779|\n",
      "|157.17|     3|     14|11.226|\n",
      "|177.93|     3|     17|10.466|\n",
      "|140.41|     3|     14|10.029|\n",
      "|163.97|     3|     17| 9.645|\n",
      "|182.41|     3|     19| 9.601|\n",
      "|114.01|     3|     12| 9.501|\n",
      "|126.60|     3|     14| 9.043|\n",
      "|125.66|     3|     14| 8.976|\n",
      "|112.05|     3|     13| 8.619|\n",
      "|166.33|     3|     20| 8.316|\n",
      "| 81.88|     3|     11| 7.444|\n",
      "| 85.07|     3|     12| 7.090|\n",
      "| 98.65|     3|     14| 7.046|\n"
     ]
    }
   ],
   "source": [
    "df = pd.read_excel(\"core_df_main.xlsx\")\n",
    "writer = MarkdownTableWriter()\n",
    "writer.from_dataframe(df)\n",
    "writer.write_table()"
   ]
  },
  {
   "cell_type": "code",
   "execution_count": 24,
   "metadata": {},
   "outputs": [],
   "source": [
    "df3 = pd.concat([df,df2],axis = 1,sort=True)\n",
    "df3.to_excel(\"df3.xlsx\")"
   ]
  },
  {
   "cell_type": "code",
   "execution_count": 25,
   "metadata": {},
   "outputs": [],
   "source": [
    "\n",
    "mid_df3 = mid_df2.groupby(mid_df2.columns, axis=1).sum()\n",
    "mid_df3['AVG_FS'] = mid_df3.apply(lambda row:row[0]/row[2],axis=1)\n",
    "mid_df3 = mid_df3.sort_values(by=['AVG_FS'],ascending=False)"
   ]
  },
  {
   "cell_type": "code",
   "execution_count": null,
   "metadata": {},
   "outputs": [],
   "source": []
  },
  {
   "cell_type": "code",
   "execution_count": 26,
   "metadata": {},
   "outputs": [
    {
     "ename": "SyntaxError",
     "evalue": "invalid syntax (<ipython-input-26-43315555b89e>, line 1)",
     "output_type": "error",
     "traceback": [
      "\u001b[1;36m  File \u001b[1;32m\"<ipython-input-26-43315555b89e>\"\u001b[1;36m, line \u001b[1;32m1\u001b[0m\n\u001b[1;33m    mid_df3.\u001b[0m\n\u001b[1;37m            ^\u001b[0m\n\u001b[1;31mSyntaxError\u001b[0m\u001b[1;31m:\u001b[0m invalid syntax\n"
     ]
    }
   ],
   "source": [
    "mid_df3.\n"
   ]
  },
  {
   "cell_type": "code",
   "execution_count": null,
   "metadata": {},
   "outputs": [],
   "source": []
  },
  {
   "cell_type": "code",
   "execution_count": null,
   "metadata": {},
   "outputs": [],
   "source": [
    "new_list = []\n",
    "for df in mid_df_list2:\n",
    "    if not df.empty:\n",
    "        new_list.append(df)\n",
    "\n",
    "mid_df_list2 = new_list\n",
    "mid_df2 = pd.concat(mid_df_list2,axis = 1,sort=True)"
   ]
  },
  {
   "cell_type": "code",
   "execution_count": null,
   "metadata": {},
   "outputs": [],
   "source": [
    "mid_df_list2"
   ]
  },
  {
   "cell_type": "code",
   "execution_count": 27,
   "metadata": {},
   "outputs": [
    {
     "data": {
      "text/html": [
       "<div>\n",
       "<style scoped>\n",
       "    .dataframe tbody tr th:only-of-type {\n",
       "        vertical-align: middle;\n",
       "    }\n",
       "\n",
       "    .dataframe tbody tr th {\n",
       "        vertical-align: top;\n",
       "    }\n",
       "\n",
       "    .dataframe thead th {\n",
       "        text-align: right;\n",
       "    }\n",
       "</style>\n",
       "<table border=\"1\" class=\"dataframe\">\n",
       "  <thead>\n",
       "    <tr style=\"text-align: right;\">\n",
       "      <th></th>\n",
       "      <th>FS</th>\n",
       "      <th>Region</th>\n",
       "      <th>Matches</th>\n",
       "      <th>AVG_FS</th>\n",
       "    </tr>\n",
       "  </thead>\n",
       "  <tbody>\n",
       "    <tr>\n",
       "      <th>y`</th>\n",
       "      <td>575.130640</td>\n",
       "      <td>3.0</td>\n",
       "      <td>19.0</td>\n",
       "      <td>30.270034</td>\n",
       "    </tr>\n",
       "    <tr>\n",
       "      <th>iNSaNia</th>\n",
       "      <td>495.970285</td>\n",
       "      <td>3.0</td>\n",
       "      <td>17.0</td>\n",
       "      <td>29.174723</td>\n",
       "    </tr>\n",
       "    <tr>\n",
       "      <th>Kitrak</th>\n",
       "      <td>360.105411</td>\n",
       "      <td>3.0</td>\n",
       "      <td>14.0</td>\n",
       "      <td>25.721815</td>\n",
       "    </tr>\n",
       "    <tr>\n",
       "      <th>Fng</th>\n",
       "      <td>306.741663</td>\n",
       "      <td>3.0</td>\n",
       "      <td>12.0</td>\n",
       "      <td>25.561805</td>\n",
       "    </tr>\n",
       "    <tr>\n",
       "      <th>Peterpandam</th>\n",
       "      <td>479.058365</td>\n",
       "      <td>3.0</td>\n",
       "      <td>20.0</td>\n",
       "      <td>23.952918</td>\n",
       "    </tr>\n",
       "    <tr>\n",
       "      <th>Khezcute</th>\n",
       "      <td>302.923531</td>\n",
       "      <td>3.0</td>\n",
       "      <td>13.0</td>\n",
       "      <td>23.301810</td>\n",
       "    </tr>\n",
       "    <tr>\n",
       "      <th>Yヤdドmミ</th>\n",
       "      <td>307.712720</td>\n",
       "      <td>3.0</td>\n",
       "      <td>14.0</td>\n",
       "      <td>21.979480</td>\n",
       "    </tr>\n",
       "    <tr>\n",
       "      <th>- ah fu -</th>\n",
       "      <td>226.716249</td>\n",
       "      <td>3.0</td>\n",
       "      <td>11.0</td>\n",
       "      <td>20.610568</td>\n",
       "    </tr>\n",
       "    <tr>\n",
       "      <th>XinQ</th>\n",
       "      <td>256.732425</td>\n",
       "      <td>3.0</td>\n",
       "      <td>19.0</td>\n",
       "      <td>13.512233</td>\n",
       "    </tr>\n",
       "    <tr>\n",
       "      <th>Saksa</th>\n",
       "      <td>267.079157</td>\n",
       "      <td>3.0</td>\n",
       "      <td>20.0</td>\n",
       "      <td>13.353958</td>\n",
       "    </tr>\n",
       "    <tr>\n",
       "      <th>Jhocam</th>\n",
       "      <td>155.632131</td>\n",
       "      <td>3.0</td>\n",
       "      <td>13.0</td>\n",
       "      <td>11.971702</td>\n",
       "    </tr>\n",
       "    <tr>\n",
       "      <th>Immersion</th>\n",
       "      <td>79.916187</td>\n",
       "      <td>3.0</td>\n",
       "      <td>12.0</td>\n",
       "      <td>6.659682</td>\n",
       "    </tr>\n",
       "    <tr>\n",
       "      <th>LaNm</th>\n",
       "      <td>72.992251</td>\n",
       "      <td>3.0</td>\n",
       "      <td>11.0</td>\n",
       "      <td>6.635659</td>\n",
       "    </tr>\n",
       "    <tr>\n",
       "      <th>dunha1</th>\n",
       "      <td>92.044333</td>\n",
       "      <td>3.0</td>\n",
       "      <td>14.0</td>\n",
       "      <td>6.574595</td>\n",
       "    </tr>\n",
       "  </tbody>\n",
       "</table>\n",
       "</div>"
      ],
      "text/plain": [
       "                     FS  Region  Matches     AVG_FS\n",
       "y`           575.130640     3.0     19.0  30.270034\n",
       "iNSaNia      495.970285     3.0     17.0  29.174723\n",
       "Kitrak       360.105411     3.0     14.0  25.721815\n",
       "Fng          306.741663     3.0     12.0  25.561805\n",
       "Peterpandam  479.058365     3.0     20.0  23.952918\n",
       "Khezcute     302.923531     3.0     13.0  23.301810\n",
       "Yヤdドmミ       307.712720     3.0     14.0  21.979480\n",
       "- ah fu -    226.716249     3.0     11.0  20.610568\n",
       "XinQ         256.732425     3.0     19.0  13.512233\n",
       "Saksa        267.079157     3.0     20.0  13.353958\n",
       "Jhocam       155.632131     3.0     13.0  11.971702\n",
       "Immersion     79.916187     3.0     12.0   6.659682\n",
       "LaNm          72.992251     3.0     11.0   6.635659\n",
       "dunha1        92.044333     3.0     14.0   6.574595"
      ]
     },
     "execution_count": 27,
     "metadata": {},
     "output_type": "execute_result"
    }
   ],
   "source": [
    "sup_df2"
   ]
  },
  {
   "cell_type": "code",
   "execution_count": null,
   "metadata": {
    "scrolled": false
   },
   "outputs": [],
   "source": [
    "\n",
    "target = \"https://api.opendota.com/api/players/201594424\"\n",
    "r = requests.get(url=target)\n",
    "details = r.json()\n",
    "details\n"
   ]
  },
  {
   "cell_type": "code",
   "execution_count": 31,
   "metadata": {},
   "outputs": [],
   "source": [
    "mid_df = post(pd.concat(mid_df_list,axis = 1,sort=True))\n",
    "mid_df.to_excel(\"mid_df_qu.xlsx\",encoding='utf_8_sig')\n",
    "core_df = post(pd.concat(core_df_list,axis = 1,sort=True))\n",
    "core_df.to_excel(\"core_df_qu.xlsx\",encoding='utf_8_sig')\n",
    "sup_df = post(pd.concat(sup_df_list,axis = 1,sort=True))\n",
    "sup_df.to_excel(\"sup_df_qu.xlsx\",encoding='utf_8_sig')\n",
    "mid_df2 = post(pd.concat(mid_df_list2,axis = 1,sort=True))\n",
    "mid_df2.to_excel(\"mid_df_main.xlsx\",encoding='utf_8_sig')\n",
    "core_df2 = post(pd.concat(core_df_list2,axis = 1,sort=True))\n",
    "core_df2.to_excel(\"core_df_main.xlsx\",encoding='utf_8_sig')\n",
    "sup_df2 = post(pd.concat(sup_df_list2,axis = 1,sort=True))\n",
    "sup_df2.to_excel(\"sup_df_main.xlsx\",encoding='utf_8_sig')"
   ]
  },
  {
   "cell_type": "code",
   "execution_count": null,
   "metadata": {},
   "outputs": [],
   "source": []
  }
 ],
 "metadata": {
  "kernelspec": {
   "display_name": "Python 3",
   "language": "python",
   "name": "python3"
  },
  "language_info": {
   "codemirror_mode": {
    "name": "ipython",
    "version": 3
   },
   "file_extension": ".py",
   "mimetype": "text/x-python",
   "name": "python",
   "nbconvert_exporter": "python",
   "pygments_lexer": "ipython3",
   "version": "3.6.5"
  }
 },
 "nbformat": 4,
 "nbformat_minor": 2
}
