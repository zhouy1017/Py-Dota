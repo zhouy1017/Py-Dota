{
 "cells": [
  {
   "cell_type": "code",
   "execution_count": 93,
   "metadata": {},
   "outputs": [],
   "source": [
    "import requests\n",
    "import pandas as pd\n",
    "import base_tools as tools\n",
    "import numpy as np\n",
    "from collections import defaultdict, OrderedDict\n",
    "import operator"
   ]
  },
  {
   "cell_type": "markdown",
   "metadata": {},
   "source": [
    "https://api.opendota.com/api/matches/"
   ]
  },
  {
   "cell_type": "code",
   "execution_count": 75,
   "metadata": {},
   "outputs": [
    {
     "data": {
      "text/plain": [
       "{'error': 'Not Found'}"
      ]
     },
     "execution_count": 75,
     "metadata": {},
     "output_type": "execute_result"
    }
   ],
   "source": [
    "r = requests.get(url = 'https://api.opendota.com/api/proplayers/119576842')\n",
    "detail = r.json()\n",
    "detail"
   ]
  },
  {
   "cell_type": "code",
   "execution_count": 76,
   "metadata": {},
   "outputs": [
    {
     "data": {
      "text/plain": [
       "156662698"
      ]
     },
     "execution_count": 76,
     "metadata": {},
     "output_type": "execute_result"
    }
   ],
   "source": [
    "r = requests.get(url = 'https://api.opendota.com/api/matches/4612899791')\n",
    "detail = r.json()\n",
    "detail['players'][2]['account_id']"
   ]
  },
  {
   "cell_type": "code",
   "execution_count": 77,
   "metadata": {},
   "outputs": [
    {
     "data": {
      "text/plain": [
       "15"
      ]
     },
     "execution_count": 77,
     "metadata": {},
     "output_type": "execute_result"
    }
   ],
   "source": [
    "detail['players'][2]['kills_log'][0]['time']\n",
    "detail['radiant_score']\n"
   ]
  },
  {
   "cell_type": "code",
   "execution_count": 78,
   "metadata": {},
   "outputs": [],
   "source": [
    "def get_fs_for_one_match(match_id):\n",
    "    target = \"https://api.opendota.com/api/matches/\" + str(match_id) \n",
    "    r = requests.get(url=target)\n",
    "    details = r.json()\n",
    "    fb_time = details['first_blood_time']\n",
    "    radiant_kills = details['radiant_score']\n",
    "    dire_kills = details['dire_score']\n",
    "    player_table = {}\n",
    "    for player in details['players']:\n",
    "        #player_stats = []\n",
    "        kills = player['kills']\n",
    "        deaths = player['deaths']\n",
    "        assists = player['assists']\n",
    "        try:\n",
    "            first_kill_time = player['kills_log'][0]['time']\n",
    "        except:\n",
    "            first_kill_time = -100\n",
    "        if first_kill_time == fb_time:\n",
    "            fb = 1\n",
    "        else:\n",
    "            fb = 0\n",
    "        creep_scores = player['denies'] + player['last_hits']\n",
    "        wards = player['obs_placed'] + player['sen_placed']\n",
    "        camp = player['camps_stacked']\n",
    "        stuns = player['stuns']\n",
    "        gpm = player['gold_per_min']\n",
    "        runes = player['rune_pickups']\n",
    "        tower_kill = player['tower_kills']\n",
    "        if player['isRadiant']:\n",
    "            participant = (kills+assists)/radiant_kills\n",
    "        else:\n",
    "            participant = (kills+assists)/dire_kills\n",
    "        roshan_kills = player['roshan_kills']\n",
    "        player_fs = kills *0.3 - 0.3* deaths + 4.0* fb+ 0.003 * creep_scores+ 0.5*wards+0.5*camp+0.05*stuns+0.002*gpm+ 0.25*runes+tower_kill+3*participant+roshan_kills\n",
    "        player_table[player['name']] = [player_fs,player['lane_role'],player['lh_t'][9]]\n",
    "    \n",
    "    return player_table\n",
    "\n",
    "        "
   ]
  },
  {
   "cell_type": "code",
   "execution_count": 79,
   "metadata": {},
   "outputs": [
    {
     "data": {
      "text/plain": [
       "{'- ah fu -': [23.7414127, 1, 7],\n",
       " 'LaNm': [8.746203000000001, 3, 9],\n",
       " 'Srf': [9.977, 3, 43],\n",
       " 'Setsu': [12.1712895, 1, 54],\n",
       " 'Monet': [15.925, 2, 34],\n",
       " 'XinQ': [8.81484365, 3, 6],\n",
       " 'NeverEnd': [5.485333333333333, 1, 51],\n",
       " '430': [4.188888816666667, 2, 43],\n",
       " 'y`': [24.423637166666666, 1, 7],\n",
       " 'xiao8': [3.7150161, 3, 53]}"
      ]
     },
     "execution_count": 79,
     "metadata": {},
     "output_type": "execute_result"
    }
   ],
   "source": [
    "get_fs_for_one_match(4612899791)"
   ]
  },
  {
   "cell_type": "code",
   "execution_count": 80,
   "metadata": {},
   "outputs": [
    {
     "data": {
      "text/plain": [
       "{'XinQ': [8.571440747368422, 3, 3],\n",
       " 'xiao8': [7.605835005263158, 1, 30],\n",
       " '430': [16.055631578947366, 2, 48],\n",
       " 'NeverEnd': [9.62430629736842, 3, 35],\n",
       " 'y`': [13.986417118421054, 3, 6],\n",
       " '- ah fu -': [11.400284833333334, 1, 5],\n",
       " 'LaNm': [2.5725767333333334, 3, 15],\n",
       " 'Srf': [3.520395833333334, 3, 38],\n",
       " 'Setsu': [7.102666666666666, 2, 46],\n",
       " 'Monet': [2.0120000000000005, 1, 36]}"
      ]
     },
     "execution_count": 80,
     "metadata": {},
     "output_type": "execute_result"
    }
   ],
   "source": [
    "get_fs_for_one_match(4613153513)"
   ]
  },
  {
   "cell_type": "code",
   "execution_count": 81,
   "metadata": {},
   "outputs": [],
   "source": [
    "def get_fs_for_one_league(match_list):\n",
    "    all_table = {}\n",
    "    mid_table = {}\n",
    "    support_table = {}\n",
    "    core_table = {}\n",
    "    for match_id in match_list:\n",
    "        player_table = get_fs_for_one_match(match_id)\n",
    "        for k, v in player_table.items():\n",
    "            if k in all_table:\n",
    "                all_table[k][0] = all_table[k][0] + v[0]\n",
    "                all_table[k][1].append(v[1])\n",
    "                all_table[k][2] = (all_table[k][2] + v[2])/2\n",
    "            else:\n",
    "                all_table[k] = [v[0],[v[1]],v[2]]\n",
    "    for player,stats in all_table.items():\n",
    "        role_list = stats[1]\n",
    "        d = defaultdict(int)\n",
    "        for i in role_list:\n",
    "            d[i] += 1\n",
    "        (role,role_times) = max(d.items(),key=lambda x: x[1])\n",
    "        lh_10_min = stats[2]\n",
    "        if role == 2:\n",
    "            mid_table[player] = stats[0]\n",
    "        else:\n",
    "            if lh_10_min > 20:\n",
    "                core_table[player] = stats[0]\n",
    "            else:\n",
    "                support_table[player] = stats[0]\n",
    "    return all_table, mid_table,support_table, core_table\n",
    "\n",
    "                "
   ]
  },
  {
   "cell_type": "code",
   "execution_count": 82,
   "metadata": {},
   "outputs": [],
   "source": [
    "table, qualifier,main_event = tools.differed_id(\"Bucharest Minor\")\n"
   ]
  },
  {
   "cell_type": "code",
   "execution_count": 83,
   "metadata": {},
   "outputs": [
    {
     "data": {
      "text/plain": [
       "{'ASD': 147.50860187683537,\n",
       " 'Afoninje': 138.65234057936053,\n",
       " 'Daxak': 227.31965393756803,\n",
       " '一': 158.75521632788494,\n",
       " 'Fata': 139.370094311329,\n",
       " 'Topson': 93.4084449658872,\n",
       " 'Ryoya': 95.36813412249963,\n",
       " 'Panthera': 23.069154920239175,\n",
       " 'Faker-': 27.03325952246283,\n",
       " '_Mikoto_': 91.28529193539282}"
      ]
     },
     "execution_count": 83,
     "metadata": {},
     "output_type": "execute_result"
    }
   ],
   "source": [
    "all_table, mid_table, support_table, core_table = get_fs_for_one_league(main_event)\n",
    "mid_table"
   ]
  },
  {
   "cell_type": "code",
   "execution_count": 94,
   "metadata": {},
   "outputs": [
    {
     "data": {
      "text/plain": [
       "OrderedDict([('old eLeVeN', 166.10736064041112),\n",
       "             ('0ld_AKyJlbi4', 144.78725404793568),\n",
       "             ('eGo', 133.22631984678847),\n",
       "             ('old chicken', 131.25567257806728),\n",
       "             ('Ace', 130.40499630796955),\n",
       "             ('Faith_bian', 125.88221334712563),\n",
       "             ('Sammyboy', 111.7395034792367),\n",
       "             ('iLTW', 93.72364316743474),\n",
       "             ('33', 93.04422514821957),\n",
       "             ('Fervian', 83.13123975346109),\n",
       "             ('Fbz', 80.39727535825662),\n",
       "             ('Ceb', 78.32363269967188),\n",
       "             ('Brax', 76.16145571581315),\n",
       "             ('Kōtarō', 40.99986845433096),\n",
       "             ('Sword', 24.68072859928249)])"
      ]
     },
     "execution_count": 94,
     "metadata": {},
     "output_type": "execute_result"
    }
   ],
   "source": [
    "core_table\n",
    "sorted_core_table = sorted(core_table.items(), key=operator.itemgetter(1),reverse = True)\n",
    "sorted_core_table = OrderedDict(sorted_core_table)\n",
    "sorted_core_table"
   ]
  },
  {
   "cell_type": "code",
   "execution_count": 95,
   "metadata": {},
   "outputs": [
    {
     "data": {
      "text/plain": [
       "['Jhocam',\n",
       " 'Newsham',\n",
       " 'Immersion',\n",
       " 'Accel丶Koala',\n",
       " 'Saksa',\n",
       " 'JerAx',\n",
       " '天命',\n",
       " 'Khezcute',\n",
       " 'N0tail',\n",
       " 'kaka',\n",
       " 'y`',\n",
       " 'ixmike88',\n",
       " 'Peterpandam',\n",
       " 'Dark',\n",
       " 'Fng']"
      ]
     },
     "execution_count": 95,
     "metadata": {},
     "output_type": "execute_result"
    }
   ],
   "source": [
    "support_table\n",
    "sorted(support_table, key=support_table.get)"
   ]
  },
  {
   "cell_type": "code",
   "execution_count": 86,
   "metadata": {},
   "outputs": [
    {
     "data": {
      "text/plain": [
       "43"
      ]
     },
     "execution_count": 86,
     "metadata": {},
     "output_type": "execute_result"
    }
   ],
   "source": [
    "len([0, 1, 1, 4, 4, 4, 5, 7, 7, 7, 7, 11, 12, 18, 18, 19, 19, 19, 21, 24, 24, 24, 25, 25, 25, 25, 25, 25, 25, 25, 25, 26, 26, 27, 27, 27, 27, 30, 33, 37, 38, 38, 38])"
   ]
  },
  {
   "cell_type": "code",
   "execution_count": null,
   "metadata": {},
   "outputs": [],
   "source": []
  }
 ],
 "metadata": {
  "kernelspec": {
   "display_name": "Python 3",
   "language": "python",
   "name": "python3"
  },
  "language_info": {
   "codemirror_mode": {
    "name": "ipython",
    "version": 3
   },
   "file_extension": ".py",
   "mimetype": "text/x-python",
   "name": "python",
   "nbconvert_exporter": "python",
   "pygments_lexer": "ipython3",
   "version": "3.6.5"
  }
 },
 "nbformat": 4,
 "nbformat_minor": 2
}
