{
 "cells": [
  {
   "cell_type": "code",
   "execution_count": 2,
   "metadata": {},
   "outputs": [],
   "source": [
    "import requests\n",
    "import pandas as pd\n",
    "import base_tools as tools\n",
    "import numpy as np\n",
    "from collections import defaultdict, OrderedDict\n",
    "import operator"
   ]
  },
  {
   "cell_type": "markdown",
   "metadata": {},
   "source": [
    "https://api.opendota.com/api/matches/"
   ]
  },
  {
   "cell_type": "code",
   "execution_count": 3,
   "metadata": {},
   "outputs": [
    {
     "data": {
      "text/plain": [
       "{'error': 'Not Found'}"
      ]
     },
     "execution_count": 3,
     "metadata": {},
     "output_type": "execute_result"
    }
   ],
   "source": [
    "r = requests.get(url = 'https://api.opendota.com/api/proplayers/119576842')\n",
    "detail = r.json()\n",
    "detail"
   ]
  },
  {
   "cell_type": "code",
   "execution_count": 4,
   "metadata": {},
   "outputs": [
    {
     "data": {
      "text/plain": [
       "156662698"
      ]
     },
     "execution_count": 4,
     "metadata": {},
     "output_type": "execute_result"
    }
   ],
   "source": [
    "r = requests.get(url = 'https://api.opendota.com/api/matches/4612899791')\n",
    "detail = r.json()\n",
    "detail['players'][2]['account_id']"
   ]
  },
  {
   "cell_type": "code",
   "execution_count": 5,
   "metadata": {},
   "outputs": [
    {
     "data": {
      "text/plain": [
       "15"
      ]
     },
     "execution_count": 5,
     "metadata": {},
     "output_type": "execute_result"
    }
   ],
   "source": [
    "detail['players'][2]['kills_log'][0]['time']\n",
    "detail['radiant_score']\n"
   ]
  },
  {
   "cell_type": "code",
   "execution_count": 26,
   "metadata": {},
   "outputs": [],
   "source": [
    "def get_fs_for_one_match(match_id):\n",
    "    player_table = {}\n",
    "    try:\n",
    "        target = \"https://api.opendota.com/api/matches/\" + str(match_id) \n",
    "        r = requests.get(url=target)\n",
    "        details = r.json()\n",
    "\n",
    "        fb_time = details['first_blood_time']\n",
    "        radiant_kills = details['radiant_score']\n",
    "        dire_kills = details['dire_score']\n",
    "        #print(details.keys())\n",
    "        try:\n",
    "            region = details['region']\n",
    "        except:\n",
    "            region = 12\n",
    "\n",
    "        \n",
    "        for player in details['players']:\n",
    "            #player_stats = []\n",
    "            kills = player['kills']\n",
    "            deaths = player['deaths']\n",
    "            assists = player['assists']\n",
    "            try:\n",
    "                first_kill_time = player['kills_log'][0]['time']\n",
    "            except:\n",
    "                first_kill_time = -100\n",
    "            if first_kill_time == fb_time:\n",
    "                fb = 1\n",
    "            else:\n",
    "                fb = 0\n",
    "            creep_scores = player['denies'] + player['last_hits']\n",
    "            wards = player['obs_placed'] + player['sen_placed']\n",
    "            camp = player['camps_stacked']\n",
    "            stuns = player['stuns']\n",
    "            gpm = player['gold_per_min']\n",
    "            runes = player['rune_pickups']\n",
    "            tower_kill = player['tower_kills']\n",
    "            if player['isRadiant']:\n",
    "                participant = (kills+assists)/radiant_kills\n",
    "            else:\n",
    "                participant = (kills+assists)/dire_kills\n",
    "            roshan_kills = player['roshan_kills']\n",
    "            player_fs = kills *0.3 - 0.3* deaths + 4.0* fb+ 0.003 * creep_scores+ 0.5*wards+0.5*camp+0.05*stuns+0.002*gpm+ 0.25*runes+tower_kill+3*participant+roshan_kills\n",
    "            player_table[player['name']] = [player_fs,player['lane_role'],player['lh_t'][9],region]\n",
    "    except Exception as e:\n",
    "        player_table[match_id] = str(e)\n",
    "    return player_table\n",
    "\n",
    "        "
   ]
  },
  {
   "cell_type": "code",
   "execution_count": 15,
   "metadata": {},
   "outputs": [
    {
     "data": {
      "text/plain": [
       "{'- ah fu -': [23.7414127, 1, 7, 'China'],\n",
       " 'LaNm': [8.746203000000001, 3, 9, 'China'],\n",
       " 'Srf': [9.977, 3, 43, 'China'],\n",
       " 'Setsu': [12.1712895, 1, 54, 'China'],\n",
       " 'Monet': [15.925, 2, 34, 'China'],\n",
       " 'XinQ': [8.81484365, 3, 6, 'China'],\n",
       " 'NeverEnd': [5.485333333333333, 1, 51, 'China'],\n",
       " '430': [4.188888816666667, 2, 43, 'China'],\n",
       " 'y`': [24.423637166666666, 1, 7, 'China'],\n",
       " 'xiao8': [3.7150161, 3, 53, 'China']}"
      ]
     },
     "execution_count": 15,
     "metadata": {},
     "output_type": "execute_result"
    }
   ],
   "source": [
    "get_fs_for_one_match(4612899791)"
   ]
  },
  {
   "cell_type": "code",
   "execution_count": null,
   "metadata": {},
   "outputs": [],
   "source": [
    "get_fs_for_one_match(4613153513)"
   ]
  },
  {
   "cell_type": "code",
   "execution_count": 21,
   "metadata": {},
   "outputs": [],
   "source": [
    "def get_fs_for_one_league(match_list,qualifier = False):\n",
    "    all_table = {}\n",
    "    mid_table = {}\n",
    "    support_table = {}\n",
    "    core_table = {}\n",
    "    Error_ID = {}\n",
    "    for match_id in match_list:\n",
    "\n",
    "        player_table = get_fs_for_one_match(match_id)\n",
    "        if len(player_table) == 1:\n",
    "            k = player_table.keys()\n",
    "            v = player_table.values()\n",
    "            Error_ID[k[0]] = v[0]\n",
    "            continue\n",
    "\n",
    "        for k, v in player_table.items():\n",
    "            if k in all_table:\n",
    "                all_table[k][0] = all_table[k][0] + v[0]\n",
    "                all_table[k][1].append(v[1])\n",
    "                all_table[k][2] = (all_table[k][2] + v[2])/2\n",
    "            else:\n",
    "                all_table[k] = [v[0],[v[1]],v[2],v[3]]\n",
    "    for player,stats in all_table.items():\n",
    "        role_list = stats[1]\n",
    "        d = defaultdict(int)\n",
    "        for i in role_list:\n",
    "            d[i] += 1\n",
    "        (role,role_times) = max(d.items(),key=lambda x: x[1])\n",
    "        lh_10_min = stats[2]\n",
    "        if role == 2:\n",
    "            if qualifier:\n",
    "                mid_table[player] = [stats[0],stats[3]]\n",
    "            else:\n",
    "                mid_table[player] = stats[0]\n",
    "\n",
    "                \n",
    "        else:\n",
    "            # if a plyaer have an average lh at 10 mins > 20, the player is regarded as a core.\n",
    "            if lh_10_min > 20:\n",
    "                if qualifier:\n",
    "                    core_table[player] = [stats[0],stats[3]]\n",
    "                else:\n",
    "                    core_table[player] = stats[0]\n",
    "            else:\n",
    "                if qualifier:\n",
    "                    support_table[player] = [stats[0],stats[3]]\n",
    "                else:\n",
    "                    support_table[player] = stats[0]\n",
    "    return all_table, mid_table,support_table, core_table\n",
    "\n",
    "                "
   ]
  },
  {
   "cell_type": "code",
   "execution_count": 17,
   "metadata": {},
   "outputs": [],
   "source": [
    "table, qualifier,main_event = tools.differed_id(\"Bucharest Minor\")\n"
   ]
  },
  {
   "cell_type": "code",
   "execution_count": 24,
   "metadata": {},
   "outputs": [
    {
     "name": "stdout",
     "output_type": "stream",
     "text": [
      "Error when processing match:4253739467\n",
      "'radiant_score'\n",
      "Match Skipped!\n",
      "Error when processing match:4253690065\n",
      "'radiant_score'\n",
      "Match Skipped!\n",
      "Error when processing match:4253570484\n",
      "'radiant_score'\n",
      "Match Skipped!\n",
      "Error when processing match:4253515444\n",
      "'radiant_score'\n",
      "Match Skipped!\n",
      "Error when processing match:4253444370\n",
      "'radiant_score'\n",
      "Match Skipped!\n",
      "Error when processing match:4253408014\n",
      "'radiant_score'\n",
      "Match Skipped!\n",
      "Error when processing match:4253376122\n",
      "'radiant_score'\n",
      "Match Skipped!\n",
      "Error when processing match:4253340384\n",
      "'radiant_score'\n",
      "Match Skipped!\n",
      "Error when processing match:4253310063\n",
      "'radiant_score'\n",
      "Match Skipped!\n",
      "Error when processing match:4253254208\n",
      "'radiant_score'\n",
      "Match Skipped!\n",
      "Error when processing match:4253223479\n",
      "'radiant_score'\n",
      "Match Skipped!\n",
      "Error when processing match:4253154295\n",
      "'radiant_score'\n",
      "Match Skipped!\n",
      "Error when processing match:4253146950\n",
      "'radiant_score'\n",
      "Match Skipped!\n",
      "Error when processing match:4253043175\n",
      "'radiant_score'\n",
      "Match Skipped!\n",
      "Error when processing match:4253039074\n",
      "'radiant_score'\n",
      "Match Skipped!\n",
      "Error when processing match:4252957863\n",
      "'radiant_score'\n",
      "Match Skipped!\n",
      "Error when processing match:4252920349\n",
      "'radiant_score'\n",
      "Match Skipped!\n",
      "Error when processing match:4252859180\n",
      "'radiant_score'\n",
      "Match Skipped!\n",
      "Error when processing match:4252809681\n",
      "'radiant_score'\n",
      "Match Skipped!\n",
      "Error when processing match:4252728209\n",
      "'radiant_score'\n",
      "Match Skipped!\n",
      "Error when processing match:4252698342\n",
      "'radiant_score'\n",
      "Match Skipped!\n",
      "Error when processing match:4252641933\n",
      "'radiant_score'\n",
      "Match Skipped!\n",
      "Error when processing match:4252621747\n",
      "'radiant_score'\n",
      "Match Skipped!\n",
      "Error when processing match:4252577077\n",
      "'radiant_score'\n",
      "Match Skipped!\n",
      "Error when processing match:4252538322\n",
      "'radiant_score'\n",
      "Match Skipped!\n",
      "Error when processing match:4252496556\n",
      "'radiant_score'\n",
      "Match Skipped!\n",
      "Error when processing match:4252439720\n",
      "'radiant_score'\n",
      "Match Skipped!\n",
      "Error when processing match:4252435946\n",
      "'radiant_score'\n",
      "Match Skipped!\n",
      "Error when processing match:4252372761\n",
      "'radiant_score'\n",
      "Match Skipped!\n",
      "Error when processing match:4252311541\n",
      "'radiant_score'\n",
      "Match Skipped!\n",
      "Error when processing match:4252237421\n",
      "'radiant_score'\n",
      "Match Skipped!\n",
      "Error when processing match:4252175414\n",
      "'radiant_score'\n",
      "Match Skipped!\n"
     ]
    },
    {
     "data": {
      "text/plain": [
       "{'Timado': [94.7802316207287, 10],\n",
       " 'Faker-': [69.71643660026368, 10],\n",
       " 'leo': [43.08947924130435, 10],\n",
       " 'Robo-Z': [36.16839235, 10],\n",
       " 'Afoninje': [67.88156997941337, 3],\n",
       " 'Iceberg': [86.96148020156559, 3],\n",
       " 'kodos-': [38.04405962214286, 3],\n",
       " 'ASD': [71.59086524006761, 12],\n",
       " 'Super': [58.98869576875817, 12],\n",
       " None: [36.55084165526316, 3],\n",
       " 'Setsu': [45.82694629206349, 12],\n",
       " 'Limmp': [94.86530537692718, 2],\n",
       " 'Ryoya': [40.34652083403361, 2],\n",
       " 'CCnC': [43.59320683846154, 2],\n",
       " 'iAnnihilate': [9.82193185, 2],\n",
       " 'Fata': [44.73471243181819, 3],\n",
       " 'MagE-': [38.32683396721612, 3],\n",
       " 'Chessie': [30.700510123076924, 3],\n",
       " 'Topson': [24.0433108, 3],\n",
       " '一': [61.93249589487395, 12],\n",
       " '` AlaCrity -': [80.43978500508543, 5],\n",
       " '_Mikoto_': [35.43254050714286, 5],\n",
       " 'Moonn': [15.71794247857143, 5],\n",
       " 'NothingToSay': [8.4199512, 5]}"
      ]
     },
     "execution_count": 24,
     "metadata": {},
     "output_type": "execute_result"
    }
   ],
   "source": [
    "all_table, mid_table, support_table, core_table = get_fs_for_one_league(qualifier,True)\n",
    "mid_table"
   ]
  },
  {
   "cell_type": "code",
   "execution_count": 94,
   "metadata": {},
   "outputs": [
    {
     "data": {
      "text/plain": [
       "OrderedDict([('old eLeVeN', 166.10736064041112),\n",
       "             ('0ld_AKyJlbi4', 144.78725404793568),\n",
       "             ('eGo', 133.22631984678847),\n",
       "             ('old chicken', 131.25567257806728),\n",
       "             ('Ace', 130.40499630796955),\n",
       "             ('Faith_bian', 125.88221334712563),\n",
       "             ('Sammyboy', 111.7395034792367),\n",
       "             ('iLTW', 93.72364316743474),\n",
       "             ('33', 93.04422514821957),\n",
       "             ('Fervian', 83.13123975346109),\n",
       "             ('Fbz', 80.39727535825662),\n",
       "             ('Ceb', 78.32363269967188),\n",
       "             ('Brax', 76.16145571581315),\n",
       "             ('Kōtarō', 40.99986845433096),\n",
       "             ('Sword', 24.68072859928249)])"
      ]
     },
     "execution_count": 94,
     "metadata": {},
     "output_type": "execute_result"
    }
   ],
   "source": [
    "core_table\n",
    "sorted_core_table = sorted(core_table.items(), key=operator.itemgetter(1),reverse = True)\n",
    "sorted_core_table = OrderedDict(sorted_core_table)\n",
    "sorted_core_table"
   ]
  },
  {
   "cell_type": "code",
   "execution_count": 95,
   "metadata": {},
   "outputs": [
    {
     "data": {
      "text/plain": [
       "['Jhocam',\n",
       " 'Newsham',\n",
       " 'Immersion',\n",
       " 'Accel丶Koala',\n",
       " 'Saksa',\n",
       " 'JerAx',\n",
       " '天命',\n",
       " 'Khezcute',\n",
       " 'N0tail',\n",
       " 'kaka',\n",
       " 'y`',\n",
       " 'ixmike88',\n",
       " 'Peterpandam',\n",
       " 'Dark',\n",
       " 'Fng']"
      ]
     },
     "execution_count": 95,
     "metadata": {},
     "output_type": "execute_result"
    }
   ],
   "source": [
    "support_table\n",
    "sorted(support_table, key=support_table.get)"
   ]
  },
  {
   "cell_type": "code",
   "execution_count": 86,
   "metadata": {},
   "outputs": [
    {
     "data": {
      "text/plain": [
       "43"
      ]
     },
     "execution_count": 86,
     "metadata": {},
     "output_type": "execute_result"
    }
   ],
   "source": [
    "len([0, 1, 1, 4, 4, 4, 5, 7, 7, 7, 7, 11, 12, 18, 18, 19, 19, 19, 21, 24, 24, 24, 25, 25, 25, 25, 25, 25, 25, 25, 25, 26, 26, 27, 27, 27, 27, 30, 33, 37, 38, 38, 38])"
   ]
  },
  {
   "cell_type": "code",
   "execution_count": null,
   "metadata": {},
   "outputs": [],
   "source": []
  }
 ],
 "metadata": {
  "kernelspec": {
   "display_name": "Python 3",
   "language": "python",
   "name": "python3"
  },
  "language_info": {
   "codemirror_mode": {
    "name": "ipython",
    "version": 3
   },
   "file_extension": ".py",
   "mimetype": "text/x-python",
   "name": "python",
   "nbconvert_exporter": "python",
   "pygments_lexer": "ipython3",
   "version": "3.6.5"
  }
 },
 "nbformat": 4,
 "nbformat_minor": 2
}
